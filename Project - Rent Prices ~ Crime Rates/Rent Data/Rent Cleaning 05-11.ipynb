{
 "cells": [
  {
   "cell_type": "code",
   "execution_count": 21,
   "id": "2625c9a5",
   "metadata": {},
   "outputs": [],
   "source": [
    "import pandas as pd\n",
    "import numpy as np"
   ]
  },
  {
   "cell_type": "code",
   "execution_count": 66,
   "id": "8c9d0380",
   "metadata": {},
   "outputs": [],
   "source": [
    "rent06 = pd.read_csv('Rent_2015.csv')\n",
    "crime = pd.read_csv('test9.csv')"
   ]
  },
  {
   "cell_type": "code",
   "execution_count": null,
   "id": "cdf99d70",
   "metadata": {},
   "outputs": [],
   "source": []
  },
  {
   "cell_type": "code",
   "execution_count": 67,
   "id": "00ef386e",
   "metadata": {},
   "outputs": [
    {
     "name": "stderr",
     "output_type": "stream",
     "text": [
      "C:\\Users\\Chris\\AppData\\Local\\Temp\\ipykernel_31048\\2025386270.py:10: SettingWithCopyWarning: \n",
      "A value is trying to be set on a copy of a slice from a DataFrame\n",
      "\n",
      "See the caveats in the documentation: https://pandas.pydata.org/pandas-docs/stable/user_guide/indexing.html#returning-a-view-versus-a-copy\n",
      "  crime['0bed'][i]= rent06['Rent50_0'][j]\n",
      "C:\\Users\\Chris\\AppData\\Local\\Temp\\ipykernel_31048\\2025386270.py:11: SettingWithCopyWarning: \n",
      "A value is trying to be set on a copy of a slice from a DataFrame\n",
      "\n",
      "See the caveats in the documentation: https://pandas.pydata.org/pandas-docs/stable/user_guide/indexing.html#returning-a-view-versus-a-copy\n",
      "  crime['1bed'][i]= rent06['Rent50_1'][j]\n",
      "C:\\Users\\Chris\\AppData\\Local\\Temp\\ipykernel_31048\\2025386270.py:12: SettingWithCopyWarning: \n",
      "A value is trying to be set on a copy of a slice from a DataFrame\n",
      "\n",
      "See the caveats in the documentation: https://pandas.pydata.org/pandas-docs/stable/user_guide/indexing.html#returning-a-view-versus-a-copy\n",
      "  crime['2bed'][i]= rent06['Rent50_2'][j]\n",
      "C:\\Users\\Chris\\AppData\\Local\\Temp\\ipykernel_31048\\2025386270.py:13: SettingWithCopyWarning: \n",
      "A value is trying to be set on a copy of a slice from a DataFrame\n",
      "\n",
      "See the caveats in the documentation: https://pandas.pydata.org/pandas-docs/stable/user_guide/indexing.html#returning-a-view-versus-a-copy\n",
      "  crime['3bed'][i]= rent06['Rent50_3'][j]\n",
      "C:\\Users\\Chris\\AppData\\Local\\Temp\\ipykernel_31048\\2025386270.py:14: SettingWithCopyWarning: \n",
      "A value is trying to be set on a copy of a slice from a DataFrame\n",
      "\n",
      "See the caveats in the documentation: https://pandas.pydata.org/pandas-docs/stable/user_guide/indexing.html#returning-a-view-versus-a-copy\n",
      "  crime['4bed'][i]= rent06['Rent50_4'][j]\n"
     ]
    }
   ],
   "source": [
    "#Match rent data with the Years\n",
    "#Match Crime States with Rent States\n",
    "#Match Crime Jurisdiction with Rent areas\n",
    "#Add new columns for rent with 0 to 5 bed\n",
    "\n",
    "for i in range(len(crime)):\n",
    "    if crime['report_year'][i] == 2015:\n",
    "        for j in range(len(rent06)):\n",
    "            if crime['state'][i] == rent06['state_alpha'][j] and crime['agency_jurisdiction'][i] in rent06['Areaname'][j]:\n",
    "                crime['0bed'][i]= rent06['Rent50_0'][j]\n",
    "                crime['1bed'][i]= rent06['Rent50_1'][j]\n",
    "                crime['2bed'][i]= rent06['Rent50_2'][j]\n",
    "                crime['3bed'][i]= rent06['Rent50_3'][j]\n",
    "                crime['4bed'][i]= rent06['Rent50_4'][j]\n",
    " \n",
    "        \n",
    "\n",
    "    \n"
   ]
  },
  {
   "cell_type": "code",
   "execution_count": 68,
   "id": "cbbf7359",
   "metadata": {},
   "outputs": [],
   "source": [
    "crime.to_csv('Congregated_Rent_Crime.csv')"
   ]
  },
  {
   "cell_type": "code",
   "execution_count": 69,
   "id": "ef0258aa",
   "metadata": {},
   "outputs": [],
   "source": [
    "df = pd.read_csv('Congregated_Rent_Crime.csv')"
   ]
  },
  {
   "cell_type": "code",
   "execution_count": 70,
   "id": "7a3a72a5",
   "metadata": {},
   "outputs": [],
   "source": [
    "df = df.replace(r'^\\s+$', np.nan, regex=True)"
   ]
  },
  {
   "cell_type": "code",
   "execution_count": 72,
   "id": "cfea21ac",
   "metadata": {},
   "outputs": [],
   "source": [
    "df = df[df['agency_jurisdiction'].notna()]"
   ]
  },
  {
   "cell_type": "code",
   "execution_count": 74,
   "id": "2ab30050",
   "metadata": {},
   "outputs": [],
   "source": [
    "df = df[df['0bed'].notna()]"
   ]
  },
  {
   "cell_type": "code",
   "execution_count": 75,
   "id": "27ecf9b1",
   "metadata": {},
   "outputs": [
    {
     "data": {
      "text/plain": [
       "report_year            557\n",
       "agency_code            557\n",
       "agency_jurisdiction    557\n",
       "population             557\n",
       "violent_crimes         555\n",
       "homicides              555\n",
       "rapes                  555\n",
       "assaults               555\n",
       "robberies              555\n",
       "months_reported        506\n",
       "crimes_percapita       555\n",
       "homicides_percapita    555\n",
       "rapes_percapita        555\n",
       "assaults_percapita     555\n",
       "robberies_percapita    555\n",
       "state                  557\n",
       "0bed                   557\n",
       "1bed                   557\n",
       "2bed                   557\n",
       "3bed                   557\n",
       "4bed                   557\n",
       "dtype: int64"
      ]
     },
     "execution_count": 75,
     "metadata": {},
     "output_type": "execute_result"
    }
   ],
   "source": [
    "df.count()"
   ]
  },
  {
   "cell_type": "code",
   "execution_count": null,
   "id": "02be2973",
   "metadata": {},
   "outputs": [],
   "source": [
    "df.tocsv"
   ]
  }
 ],
 "metadata": {
  "kernelspec": {
   "display_name": "Python 3 (ipykernel)",
   "language": "python",
   "name": "python3"
  },
  "language_info": {
   "codemirror_mode": {
    "name": "ipython",
    "version": 3
   },
   "file_extension": ".py",
   "mimetype": "text/x-python",
   "name": "python",
   "nbconvert_exporter": "python",
   "pygments_lexer": "ipython3",
   "version": "3.9.12"
  },
  "toc": {
   "base_numbering": 1,
   "nav_menu": {},
   "number_sections": true,
   "sideBar": true,
   "skip_h1_title": false,
   "title_cell": "Table of Contents",
   "title_sidebar": "Contents",
   "toc_cell": false,
   "toc_position": {},
   "toc_section_display": true,
   "toc_window_display": false
  }
 },
 "nbformat": 4,
 "nbformat_minor": 5
}
