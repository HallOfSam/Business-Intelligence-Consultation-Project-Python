{
 "cells": [
  {
   "cell_type": "code",
   "execution_count": 41,
   "id": "0ed0781b",
   "metadata": {},
   "outputs": [],
   "source": [
    "import numpy as np\n",
    "import pandas as pd\n",
    "import statsmodels.api as sm\n",
    "from sklearn.linear_model import LinearRegression\n",
    "import matplotlib.pyplot as plt"
   ]
  },
  {
   "cell_type": "code",
   "execution_count": 2,
   "id": "8b1d8af5",
   "metadata": {},
   "outputs": [],
   "source": [
    "df = pd.read_csv('Updated Dataset-Crime, Rent, Income, Unemployment.csv')"
   ]
  },
  {
   "cell_type": "code",
   "execution_count": null,
   "id": "f44a1490",
   "metadata": {},
   "outputs": [],
   "source": []
  },
  {
   "cell_type": "code",
   "execution_count": 4,
   "id": "d286dd70",
   "metadata": {},
   "outputs": [
    {
     "name": "stdout",
     "output_type": "stream",
     "text": [
      "                            OLS Regression Results                            \n",
      "==============================================================================\n",
      "Dep. Variable:                   0bed   R-squared:                       0.350\n",
      "Model:                            OLS   Adj. R-squared:                  0.347\n",
      "Method:                 Least Squares   F-statistic:                     98.96\n",
      "Date:                Sat, 26 Nov 2022   Prob (F-statistic):           3.01e-51\n",
      "Time:                        14:10:35   Log-Likelihood:                -3627.1\n",
      "No. Observations:                 555   AIC:                             7262.\n",
      "Df Residuals:                     551   BIC:                             7279.\n",
      "Df Model:                           3                                         \n",
      "Covariance Type:            nonrobust                                         \n",
      "=======================================================================================\n",
      "                          coef    std err          t      P>|t|      [0.025      0.975]\n",
      "---------------------------------------------------------------------------------------\n",
      "const                -218.1474     60.249     -3.621      0.000    -336.493     -99.802\n",
      "crimes_percapita       -0.0165      0.018     -0.934      0.351      -0.051       0.018\n",
      "Unemployment Rate %    28.4053      3.168      8.965      0.000      22.182      34.629\n",
      "Median Income           0.0147      0.001     14.790      0.000       0.013       0.017\n",
      "==============================================================================\n",
      "Omnibus:                       81.991   Durbin-Watson:                   1.832\n",
      "Prob(Omnibus):                  0.000   Jarque-Bera (JB):              116.799\n",
      "Skew:                           1.035   Prob(JB):                     4.34e-26\n",
      "Kurtosis:                       3.877   Cond. No.                     4.40e+05\n",
      "==============================================================================\n",
      "\n",
      "Notes:\n",
      "[1] Standard Errors assume that the covariance matrix of the errors is correctly specified.\n",
      "[2] The condition number is large, 4.4e+05. This might indicate that there are\n",
      "strong multicollinearity or other numerical problems.\n"
     ]
    }
   ],
   "source": [
    "#Normal Regression\n",
    "y = df['0bed']\n",
    "x = df[['crimes_percapita','Unemployment Rate %','Median Income']]\n",
    "x = sm.add_constant(x)\n",
    "model_1 = sm.OLS(y,x).fit()\n",
    "print(model_1.summary())"
   ]
  },
  {
   "cell_type": "code",
   "execution_count": 17,
   "id": "bfaedd9d",
   "metadata": {},
   "outputs": [],
   "source": [
    "# Logged Unemployment Rate and 0bed\n",
    "df1 =df.copy(deep=False)\n",
    "df1['0bed'] =np.log(df1['0bed'])\n",
    "df1['Unemployment Rate %'] = np.log(df1['Unemployment Rate %'])"
   ]
  },
  {
   "cell_type": "code",
   "execution_count": 6,
   "id": "48140b77",
   "metadata": {},
   "outputs": [
    {
     "name": "stdout",
     "output_type": "stream",
     "text": [
      "                            OLS Regression Results                            \n",
      "==============================================================================\n",
      "Dep. Variable:                   0bed   R-squared:                       0.372\n",
      "Model:                            OLS   Adj. R-squared:                  0.368\n",
      "Method:                 Least Squares   F-statistic:                     108.7\n",
      "Date:                Sat, 26 Nov 2022   Prob (F-statistic):           2.72e-55\n",
      "Time:                        14:10:35   Log-Likelihood:                 89.155\n",
      "No. Observations:                 555   AIC:                            -170.3\n",
      "Df Residuals:                     551   BIC:                            -153.0\n",
      "Df Model:                           3                                         \n",
      "Covariance Type:            nonrobust                                         \n",
      "=======================================================================================\n",
      "                          coef    std err          t      P>|t|      [0.025      0.975]\n",
      "---------------------------------------------------------------------------------------\n",
      "const                   5.0898      0.087     58.776      0.000       4.920       5.260\n",
      "crimes_percapita    -1.002e-05   2.18e-05     -0.459      0.647   -5.29e-05    3.29e-05\n",
      "Unemployment Rate %     0.2606      0.027      9.710      0.000       0.208       0.313\n",
      "Median Income        1.895e-05   1.23e-06     15.384      0.000    1.65e-05    2.14e-05\n",
      "==============================================================================\n",
      "Omnibus:                       33.555   Durbin-Watson:                   1.900\n",
      "Prob(Omnibus):                  0.000   Jarque-Bera (JB):               38.691\n",
      "Skew:                           0.646   Prob(JB):                     3.97e-09\n",
      "Kurtosis:                       2.935   Cond. No.                     5.22e+05\n",
      "==============================================================================\n",
      "\n",
      "Notes:\n",
      "[1] Standard Errors assume that the covariance matrix of the errors is correctly specified.\n",
      "[2] The condition number is large, 5.22e+05. This might indicate that there are\n",
      "strong multicollinearity or other numerical problems.\n"
     ]
    }
   ],
   "source": [
    "y2 = df1['0bed']\n",
    "x2 = df1[['crimes_percapita','Unemployment Rate %','Median Income']]\n",
    "x2 =sm.add_constant(x2)\n",
    "model_2 = sm.OLS(y2,x2).fit()\n",
    "print(model_2.summary())"
   ]
  },
  {
   "cell_type": "code",
   "execution_count": 16,
   "id": "81d96ce3",
   "metadata": {},
   "outputs": [],
   "source": [
    "# Log All\n",
    "df2 = df.copy(deep=False)\n",
    "df2['0bed'] = np.log(df2['0bed'])\n",
    "df2['Unemployment Rate %'] = np.log(df2['Unemployment Rate %'])\n",
    "df2['Median Income'] = np.log(df2['Median Income'])\n",
    "df2['crimes_percapita'] = np.log(df2['crimes_percapita'])\n"
   ]
  },
  {
   "cell_type": "code",
   "execution_count": 8,
   "id": "327c1feb",
   "metadata": {},
   "outputs": [
    {
     "name": "stdout",
     "output_type": "stream",
     "text": [
      "                            OLS Regression Results                            \n",
      "==============================================================================\n",
      "Dep. Variable:                   0bed   R-squared:                       0.367\n",
      "Model:                            OLS   Adj. R-squared:                  0.363\n",
      "Method:                 Least Squares   F-statistic:                     106.3\n",
      "Date:                Sat, 26 Nov 2022   Prob (F-statistic):           2.55e-54\n",
      "Time:                        14:10:36   Log-Likelihood:                 86.892\n",
      "No. Observations:                 555   AIC:                            -165.8\n",
      "Df Residuals:                     551   BIC:                            -148.5\n",
      "Df Model:                           3                                         \n",
      "Covariance Type:            nonrobust                                         \n",
      "=======================================================================================\n",
      "                          coef    std err          t      P>|t|      [0.025      0.975]\n",
      "---------------------------------------------------------------------------------------\n",
      "const                  -4.2559      0.742     -5.736      0.000      -5.713      -2.799\n",
      "crimes_percapita       -0.0293      0.020     -1.492      0.136      -0.068       0.009\n",
      "Unemployment Rate %     0.2530      0.027      9.386      0.000       0.200       0.306\n",
      "Median Income           0.9708      0.065     14.848      0.000       0.842       1.099\n",
      "==============================================================================\n",
      "Omnibus:                       31.956   Durbin-Watson:                   1.874\n",
      "Prob(Omnibus):                  0.000   Jarque-Bera (JB):               36.481\n",
      "Skew:                           0.623   Prob(JB):                     1.20e-08\n",
      "Kurtosis:                       2.848   Cond. No.                     1.09e+03\n",
      "==============================================================================\n",
      "\n",
      "Notes:\n",
      "[1] Standard Errors assume that the covariance matrix of the errors is correctly specified.\n",
      "[2] The condition number is large, 1.09e+03. This might indicate that there are\n",
      "strong multicollinearity or other numerical problems.\n"
     ]
    }
   ],
   "source": [
    "y3 = df2['0bed']\n",
    "x3 = df2[['crimes_percapita','Unemployment Rate %','Median Income']]\n",
    "x3 =sm.add_constant(x3)\n",
    "model_3 = sm.OLS(y3,x3).fit()\n",
    "print(model_3.summary())"
   ]
  },
  {
   "cell_type": "code",
   "execution_count": 18,
   "id": "737e41ff",
   "metadata": {},
   "outputs": [],
   "source": [
    "# Log Crime\n",
    "df3 = df.copy(deep=False)\n",
    "df3['0bed'] = np.log(df['0bed'])\n",
    "df3['crimes_percapita'] = np.log(df['crimes_percapita'])"
   ]
  },
  {
   "cell_type": "code",
   "execution_count": 10,
   "id": "4c57843b",
   "metadata": {},
   "outputs": [
    {
     "name": "stdout",
     "output_type": "stream",
     "text": [
      "                            OLS Regression Results                            \n",
      "==============================================================================\n",
      "Dep. Variable:                   0bed   R-squared:                       0.378\n",
      "Model:                            OLS   Adj. R-squared:                  0.375\n",
      "Method:                 Least Squares   F-statistic:                     111.7\n",
      "Date:                Sat, 26 Nov 2022   Prob (F-statistic):           1.66e-56\n",
      "Time:                        14:10:36   Log-Likelihood:                 91.977\n",
      "No. Observations:                 555   AIC:                            -176.0\n",
      "Df Residuals:                     551   BIC:                            -158.7\n",
      "Df Model:                           3                                         \n",
      "Covariance Type:            nonrobust                                         \n",
      "=======================================================================================\n",
      "                          coef    std err          t      P>|t|      [0.025      0.975]\n",
      "---------------------------------------------------------------------------------------\n",
      "const                   5.5196      0.157     35.258      0.000       5.212       5.827\n",
      "crimes_percapita       -0.0306      0.019     -1.571      0.117      -0.069       0.008\n",
      "Unemployment Rate %     0.0384      0.004      9.845      0.000       0.031       0.046\n",
      "Median Income        1.876e-05   1.23e-06     15.224      0.000    1.63e-05    2.12e-05\n",
      "==============================================================================\n",
      "Omnibus:                       34.794   Durbin-Watson:                   1.898\n",
      "Prob(Omnibus):                  0.000   Jarque-Bera (JB):               40.341\n",
      "Skew:                           0.660   Prob(JB):                     1.74e-09\n",
      "Kurtosis:                       2.959   Cond. No.                     9.36e+05\n",
      "==============================================================================\n",
      "\n",
      "Notes:\n",
      "[1] Standard Errors assume that the covariance matrix of the errors is correctly specified.\n",
      "[2] The condition number is large, 9.36e+05. This might indicate that there are\n",
      "strong multicollinearity or other numerical problems.\n"
     ]
    }
   ],
   "source": [
    "y4 = df3['0bed']\n",
    "x4 = df3[['crimes_percapita','Unemployment Rate %','Median Income']]\n",
    "x4=sm.add_constant(x4)\n",
    "model_4= sm.OLS(y4,x4).fit()\n",
    "print(model_4.summary())"
   ]
  },
  {
   "cell_type": "code",
   "execution_count": 26,
   "id": "9b6ad4a7",
   "metadata": {},
   "outputs": [],
   "source": [
    "#2Bed, Log all\n",
    "df4 = df.copy(deep=False)\n",
    "df4['2bed'] = np.log(df4['2bed'])\n",
    "df4['Unemployment Rate %'] = np.log(df4['Unemployment Rate %'])\n",
    "df4['Median Income'] = np.log(df4['Median Income'])\n",
    "df4['crimes_percapita'] = np.log(df4['crimes_percapita'])"
   ]
  },
  {
   "cell_type": "code",
   "execution_count": 27,
   "id": "4801453f",
   "metadata": {},
   "outputs": [
    {
     "name": "stdout",
     "output_type": "stream",
     "text": [
      "                            OLS Regression Results                            \n",
      "==============================================================================\n",
      "Dep. Variable:                   2bed   R-squared:                       0.438\n",
      "Model:                            OLS   Adj. R-squared:                  0.434\n",
      "Method:                 Least Squares   F-statistic:                     142.9\n",
      "Date:                Sat, 26 Nov 2022   Prob (F-statistic):           1.79e-68\n",
      "Time:                        14:23:53   Log-Likelihood:                 115.07\n",
      "No. Observations:                 555   AIC:                            -222.1\n",
      "Df Residuals:                     551   BIC:                            -204.9\n",
      "Df Model:                           3                                         \n",
      "Covariance Type:            nonrobust                                         \n",
      "=======================================================================================\n",
      "                          coef    std err          t      P>|t|      [0.025      0.975]\n",
      "---------------------------------------------------------------------------------------\n",
      "const                  -5.2393      0.705     -7.429      0.000      -6.625      -3.854\n",
      "crimes_percapita       -0.0549      0.019     -2.939      0.003      -0.092      -0.018\n",
      "Unemployment Rate %     0.2296      0.026      8.963      0.000       0.179       0.280\n",
      "Median Income           1.1115      0.062     17.885      0.000       0.989       1.234\n",
      "==============================================================================\n",
      "Omnibus:                       31.226   Durbin-Watson:                   1.872\n",
      "Prob(Omnibus):                  0.000   Jarque-Bera (JB):               35.330\n",
      "Skew:                           0.617   Prob(JB):                     2.13e-08\n",
      "Kurtosis:                       3.079   Cond. No.                     1.09e+03\n",
      "==============================================================================\n",
      "\n",
      "Notes:\n",
      "[1] Standard Errors assume that the covariance matrix of the errors is correctly specified.\n",
      "[2] The condition number is large, 1.09e+03. This might indicate that there are\n",
      "strong multicollinearity or other numerical problems.\n"
     ]
    }
   ],
   "source": [
    "y5 = df4['2bed']\n",
    "x5 = df4[['crimes_percapita','Unemployment Rate %','Median Income']]\n",
    "x5 =sm.add_constant(x5)\n",
    "model_5 = sm.OLS(y5,x5).fit()\n",
    "print(model_5.summary())"
   ]
  },
  {
   "cell_type": "code",
   "execution_count": 28,
   "id": "12492987",
   "metadata": {},
   "outputs": [],
   "source": [
    "#1bed, Log All\n",
    "df5 = df.copy(deep=False)\n",
    "df5['1bed'] = np.log(df5['1bed'])\n",
    "df5['Unemployment Rate %'] = np.log(df5['Unemployment Rate %'])\n",
    "df5['Median Income'] = np.log(df5['Median Income'])\n",
    "df5['crimes_percapita'] = np.log(df5['crimes_percapita'])"
   ]
  },
  {
   "cell_type": "code",
   "execution_count": 29,
   "id": "d0fc8da4",
   "metadata": {},
   "outputs": [
    {
     "name": "stdout",
     "output_type": "stream",
     "text": [
      "                            OLS Regression Results                            \n",
      "==============================================================================\n",
      "Dep. Variable:                   1bed   R-squared:                       0.401\n",
      "Model:                            OLS   Adj. R-squared:                  0.398\n",
      "Method:                 Least Squares   F-statistic:                     123.1\n",
      "Date:                Sat, 26 Nov 2022   Prob (F-statistic):           5.00e-61\n",
      "Time:                        14:24:15   Log-Likelihood:                 91.099\n",
      "No. Observations:                 555   AIC:                            -174.2\n",
      "Df Residuals:                     551   BIC:                            -156.9\n",
      "Df Model:                           3                                         \n",
      "Covariance Type:            nonrobust                                         \n",
      "=======================================================================================\n",
      "                          coef    std err          t      P>|t|      [0.025      0.975]\n",
      "---------------------------------------------------------------------------------------\n",
      "const                  -5.0024      0.736     -6.793      0.000      -6.449      -3.556\n",
      "crimes_percapita       -0.0356      0.020     -1.827      0.068      -0.074       0.003\n",
      "Unemployment Rate %     0.2538      0.027      9.489      0.000       0.201       0.306\n",
      "Median Income           1.0558      0.065     16.271      0.000       0.928       1.183\n",
      "==============================================================================\n",
      "Omnibus:                       27.082   Durbin-Watson:                   1.876\n",
      "Prob(Omnibus):                  0.000   Jarque-Bera (JB):               30.080\n",
      "Skew:                           0.562   Prob(JB):                     2.94e-07\n",
      "Kurtosis:                       2.810   Cond. No.                     1.09e+03\n",
      "==============================================================================\n",
      "\n",
      "Notes:\n",
      "[1] Standard Errors assume that the covariance matrix of the errors is correctly specified.\n",
      "[2] The condition number is large, 1.09e+03. This might indicate that there are\n",
      "strong multicollinearity or other numerical problems.\n"
     ]
    }
   ],
   "source": [
    "y6 = df5['1bed']\n",
    "x6 = df5[['crimes_percapita','Unemployment Rate %','Median Income']]\n",
    "x6 =sm.add_constant(x6)\n",
    "model_6 = sm.OLS(y6,x6).fit()\n",
    "print(model_6.summary())"
   ]
  },
  {
   "cell_type": "code",
   "execution_count": 30,
   "id": "c22f6669",
   "metadata": {},
   "outputs": [],
   "source": [
    "#4 bed, Log All\n",
    "df6 = df.copy(deep=False)\n",
    "df6['4bed'] = np.log(df6['4bed'])\n",
    "df6['Unemployment Rate %'] = np.log(df6['Unemployment Rate %'])\n",
    "df6['Median Income'] = np.log(df6['Median Income'])\n",
    "df6['crimes_percapita'] = np.log(df6['crimes_percapita'])"
   ]
  },
  {
   "cell_type": "code",
   "execution_count": 32,
   "id": "25c3b016",
   "metadata": {},
   "outputs": [
    {
     "name": "stdout",
     "output_type": "stream",
     "text": [
      "                            OLS Regression Results                            \n",
      "==============================================================================\n",
      "Dep. Variable:                   4bed   R-squared:                       0.462\n",
      "Model:                            OLS   Adj. R-squared:                  0.459\n",
      "Method:                 Least Squares   F-statistic:                     157.6\n",
      "Date:                Sat, 26 Nov 2022   Prob (F-statistic):           9.47e-74\n",
      "Time:                        14:25:15   Log-Likelihood:                 73.645\n",
      "No. Observations:                 555   AIC:                            -139.3\n",
      "Df Residuals:                     551   BIC:                            -122.0\n",
      "Df Model:                           3                                         \n",
      "Covariance Type:            nonrobust                                         \n",
      "=======================================================================================\n",
      "                          coef    std err          t      P>|t|      [0.025      0.975]\n",
      "---------------------------------------------------------------------------------------\n",
      "const                  -5.2047      0.760     -6.849      0.000      -6.697      -3.712\n",
      "crimes_percapita       -0.1382      0.020     -6.863      0.000      -0.178      -0.099\n",
      "Unemployment Rate %     0.2103      0.028      7.619      0.000       0.156       0.265\n",
      "Median Income           1.2036      0.067     17.975      0.000       1.072       1.335\n",
      "==============================================================================\n",
      "Omnibus:                       15.391   Durbin-Watson:                   1.966\n",
      "Prob(Omnibus):                  0.000   Jarque-Bera (JB):               15.478\n",
      "Skew:                           0.380   Prob(JB):                     0.000435\n",
      "Kurtosis:                       2.696   Cond. No.                     1.09e+03\n",
      "==============================================================================\n",
      "\n",
      "Notes:\n",
      "[1] Standard Errors assume that the covariance matrix of the errors is correctly specified.\n",
      "[2] The condition number is large, 1.09e+03. This might indicate that there are\n",
      "strong multicollinearity or other numerical problems.\n"
     ]
    }
   ],
   "source": [
    "y7 = df6['4bed']\n",
    "x7 = df6[['crimes_percapita','Unemployment Rate %','Median Income']]\n",
    "x7 =sm.add_constant(x7)\n",
    "model_7 = sm.OLS(y7,x7).fit()\n",
    "print(model_7.summary())"
   ]
  },
  {
   "cell_type": "code",
   "execution_count": 37,
   "id": "1b205189",
   "metadata": {},
   "outputs": [],
   "source": [
    "#2 bed, log crime, Income\n",
    "df7 = df.copy(deep=False)\n",
    "df7['2bed'] = np.log(df7['2bed'])\n",
    "df7['crimes_percapita'] = np.log(df7['crimes_percapita'])\n",
    "df7['Median Income'] = np.log(df7['Median Income'])"
   ]
  },
  {
   "cell_type": "code",
   "execution_count": 38,
   "id": "4ec33859",
   "metadata": {},
   "outputs": [
    {
     "name": "stdout",
     "output_type": "stream",
     "text": [
      "                            OLS Regression Results                            \n",
      "==============================================================================\n",
      "Dep. Variable:                   2bed   R-squared:                       0.439\n",
      "Model:                            OLS   Adj. R-squared:                  0.436\n",
      "Method:                 Least Squares   F-statistic:                     143.8\n",
      "Date:                Sat, 26 Nov 2022   Prob (F-statistic):           8.38e-69\n",
      "Time:                        15:22:28   Log-Likelihood:                 115.83\n",
      "No. Observations:                 555   AIC:                            -223.7\n",
      "Df Residuals:                     551   BIC:                            -206.4\n",
      "Df Model:                           3                                         \n",
      "Covariance Type:            nonrobust                                         \n",
      "=======================================================================================\n",
      "                          coef    std err          t      P>|t|      [0.025      0.975]\n",
      "---------------------------------------------------------------------------------------\n",
      "const                  -5.0479      0.702     -7.187      0.000      -6.428      -3.668\n",
      "crimes_percapita       -0.0550      0.019     -2.948      0.003      -0.092      -0.018\n",
      "Unemployment Rate %     0.0338      0.004      9.060      0.000       0.026       0.041\n",
      "Median Income           1.1121      0.062     17.919      0.000       0.990       1.234\n",
      "==============================================================================\n",
      "Omnibus:                       32.405   Durbin-Watson:                   1.863\n",
      "Prob(Omnibus):                  0.000   Jarque-Bera (JB):               36.818\n",
      "Skew:                           0.629   Prob(JB):                     1.01e-08\n",
      "Kurtosis:                       3.103   Cond. No.                     1.22e+03\n",
      "==============================================================================\n",
      "\n",
      "Notes:\n",
      "[1] Standard Errors assume that the covariance matrix of the errors is correctly specified.\n",
      "[2] The condition number is large, 1.22e+03. This might indicate that there are\n",
      "strong multicollinearity or other numerical problems.\n"
     ]
    }
   ],
   "source": [
    "y8 = df7['2bed']\n",
    "x8 = df7[['crimes_percapita','Unemployment Rate %','Median Income']]\n",
    "x8 =sm.add_constant(x8)\n",
    "model_8 = sm.OLS(y8,x8).fit()\n",
    "print(model_8.summary())"
   ]
  },
  {
   "cell_type": "code",
   "execution_count": 42,
   "id": "bbf93b8c",
   "metadata": {},
   "outputs": [
    {
     "data": {
      "text/plain": [
       "(array([ 4.,  5., 11., 18., 30., 35., 92., 54., 48., 48., 35., 54., 29.,\n",
       "        36., 11., 25., 10.,  6.,  2.,  2.]),\n",
       " array([10.50473872, 10.54153465, 10.57833058, 10.61512651, 10.65192244,\n",
       "        10.68871837, 10.7255143 , 10.76231023, 10.79910616, 10.83590209,\n",
       "        10.87269802, 10.90949395, 10.94628988, 10.98308581, 11.01988174,\n",
       "        11.05667767, 11.0934736 , 11.13026953, 11.16706546, 11.20386139,\n",
       "        11.24065732]),\n",
       " <BarContainer object of 20 artists>)"
      ]
     },
     "execution_count": 42,
     "metadata": {},
     "output_type": "execute_result"
    },
    {
     "data": {
      "image/png": "[encoded data removed]",
      "text/plain": [
       "<Figure size 432x288 with 1 Axes>"
      ]
     },
     "metadata": {
      "needs_background": "light"
     },
     "output_type": "display_data"
    }
   ],
   "source": [
    "plt.hist(df7['Median Income'], bins = 20)"
   ]
  },
  {
   "cell_type": "code",
   "execution_count": 51,
   "id": "a15c29ae",
   "metadata": {},
   "outputs": [],
   "source": [
    "df8 = df.copy(deep=False)\n",
    "df8['population'] = np.log(df8['population'])"
   ]
  },
  {
   "cell_type": "code",
   "execution_count": 52,
   "id": "3d82f61d",
   "metadata": {},
   "outputs": [
    {
     "name": "stdout",
     "output_type": "stream",
     "text": [
      "                             OLS Regression Results                            \n",
      "===============================================================================\n",
      "Dep. Variable:     Unemployment Rate %   R-squared:                       0.016\n",
      "Model:                             OLS   Adj. R-squared:                  0.015\n",
      "Method:                  Least Squares   F-statistic:                     9.231\n",
      "Date:                 Sat, 26 Nov 2022   Prob (F-statistic):            0.00249\n",
      "Time:                         15:30:26   Log-Likelihood:                -1231.9\n",
      "No. Observations:                  555   AIC:                             2468.\n",
      "Df Residuals:                      553   BIC:                             2476.\n",
      "Df Model:                            1                                         \n",
      "Covariance Type:             nonrobust                                         \n",
      "==============================================================================\n",
      "                 coef    std err          t      P>|t|      [0.025      0.975]\n",
      "------------------------------------------------------------------------------\n",
      "const          1.2050      1.842      0.654      0.513      -2.412       4.823\n",
      "population     0.4177      0.137      3.038      0.002       0.148       0.688\n",
      "==============================================================================\n",
      "Omnibus:                       37.028   Durbin-Watson:                   0.604\n",
      "Prob(Omnibus):                  0.000   Jarque-Bera (JB):               41.002\n",
      "Skew:                           0.641   Prob(JB):                     1.25e-09\n",
      "Kurtosis:                       2.642   Cond. No.                         262.\n",
      "==============================================================================\n",
      "\n",
      "Notes:\n",
      "[1] Standard Errors assume that the covariance matrix of the errors is correctly specified.\n"
     ]
    }
   ],
   "source": [
    "x9 = df8['population']\n",
    "y9 = df8[['Unemployment Rate %']]\n",
    "x9 =sm.add_constant(x9)\n",
    "model_9 = sm.OLS(y9,x9).fit()\n",
    "print(model_9.summary())"
   ]
  },
  {
   "cell_type": "code",
   "execution_count": 53,
   "id": "a04963f9",
   "metadata": {},
   "outputs": [
    {
     "data": {
      "text/plain": [
       "array([[1.        , 0.12813577],\n",
       "       [0.12813577, 1.        ]])"
      ]
     },
     "execution_count": 53,
     "metadata": {},
     "output_type": "execute_result"
    }
   ],
   "source": [
    "np.corrcoef(df8['population'],df8['Unemployment Rate %'])"
   ]
  },
  {
   "cell_type": "code",
   "execution_count": null,
   "id": "1de7e8a8",
   "metadata": {},
   "outputs": [],
   "source": []
  }
 ],
 "metadata": {
  "kernelspec": {
   "display_name": "Python 3 (ipykernel)",
   "language": "python",
   "name": "python3"
  },
  "language_info": {
   "codemirror_mode": {
    "name": "ipython",
    "version": 3
   },
   "file_extension": ".py",
   "mimetype": "text/x-python",
   "name": "python",
   "nbconvert_exporter": "python",
   "pygments_lexer": "ipython3",
   "version": "3.9.12"
  },
  "toc": {
   "base_numbering": 1,
   "nav_menu": {},
   "number_sections": true,
   "sideBar": true,
   "skip_h1_title": false,
   "title_cell": "Table of Contents",
   "title_sidebar": "Contents",
   "toc_cell": false,
   "toc_position": {},
   "toc_section_display": true,
   "toc_window_display": false
  }
 },
 "nbformat": 4,
 "nbformat_minor": 5
}
