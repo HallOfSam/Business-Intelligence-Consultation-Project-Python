{
 "cells": [
  {
   "cell_type": "code",
   "execution_count": 1,
   "id": "b8eac963",
   "metadata": {},
   "outputs": [],
   "source": [
    "import numpy as np\n",
    "import pandas as pd\n",
    "import statsmodels.api as sm\n",
    "from sklearn.linear_model import LinearRegression\n",
    "import matplotlib.pyplot as plt\n",
    "import dataframe_image as dfi"
   ]
  },
  {
   "cell_type": "code",
   "execution_count": null,
   "id": "2043181d",
   "metadata": {},
   "outputs": [],
   "source": [
    "df = pd.read_csv('Updated Dataset-Crime, Rent, Income, Unemployment.csv')"
   ]
  },
  {
   "cell_type": "code",
   "execution_count": null,
   "id": "35c9424a",
   "metadata": {},
   "outputs": [],
   "source": [
    "df1 = df.groupby(df['report_year']).agg({'crimes_percapita':['max','min','std','mean'],\n",
    "                                   'Unemployment Rate %':['max','min','std','mean'],\n",
    "                                   'Median Income':['max','min','std','mean'],\n",
    "                                   'Mean_Rent':['max','min','std','mean']})"
   ]
  },
  {
   "cell_type": "code",
   "execution_count": null,
   "id": "07f6eedc",
   "metadata": {},
   "outputs": [],
   "source": [
    "df1 = df1.style.background_gradient()"
   ]
  },
  {
   "cell_type": "code",
   "execution_count": null,
   "id": "944189a7",
   "metadata": {},
   "outputs": [],
   "source": [
    "dfi.export(df1,'Summary_stats.png')"
   ]
  }
 ],
 "metadata": {
  "kernelspec": {
   "display_name": "Python 3",
   "language": "python",
   "name": "python3"
  },
  "language_info": {
   "codemirror_mode": {
    "name": "ipython",
    "version": 3
   },
   "file_extension": ".py",
   "mimetype": "text/x-python",
   "name": "python",
   "nbconvert_exporter": "python",
   "pygments_lexer": "ipython3",
   "version": "3.8.8"
  },
  "toc": {
   "base_numbering": 1,
   "nav_menu": {},
   "number_sections": true,
   "sideBar": true,
   "skip_h1_title": false,
   "title_cell": "Table of Contents",
   "title_sidebar": "Contents",
   "toc_cell": false,
   "toc_position": {},
   "toc_section_display": true,
   "toc_window_display": false
  }
 },
 "nbformat": 4,
 "nbformat_minor": 5
}
